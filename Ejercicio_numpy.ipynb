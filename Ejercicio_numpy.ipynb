{
  "nbformat": 4,
  "nbformat_minor": 0,
  "metadata": {
    "colab": {
      "provenance": [],
      "authorship_tag": "ABX9TyMol5P+4cv3AXfJMA3i7QD5",
      "include_colab_link": true
    },
    "kernelspec": {
      "name": "python3",
      "display_name": "Python 3"
    },
    "language_info": {
      "name": "python"
    }
  },
  "cells": [
    {
      "cell_type": "markdown",
      "metadata": {
        "id": "view-in-github",
        "colab_type": "text"
      },
      "source": [
        "<a href=\"https://colab.research.google.com/github/SalmenzarZV/NumpyImagenes/blob/main/Ejercicio_numpy.ipynb\" target=\"_parent\"><img src=\"https://colab.research.google.com/assets/colab-badge.svg\" alt=\"Open In Colab\"/></a>"
      ]
    },
    {
      "cell_type": "code",
      "execution_count": null,
      "metadata": {
        "id": "QfJAY3i46oDj"
      },
      "outputs": [],
      "source": [
        "import numpy as np\n",
        "from PIL import Image\n",
        "from random import randint\n",
        "\n",
        "class EjercicioNumpy:\n",
        "  def __init__(self):\n",
        "    pass\n",
        "  \n",
        "  # MÉTODOS AUXILIARES\n",
        "  def __random_color__(self):\n",
        "    return (randint(0, 255), randint(0, 255), randint(0, 255))\n",
        "\n",
        "\n",
        "    \n",
        "\n",
        "\n",
        "  # APARTADO A\n",
        "  @staticmethod\n",
        "  def createImage(width, height, color = (0,0,0), image = True):\n",
        "    img = Image.new('RGB', (int(width), int(height)))\n",
        "\n",
        "    for i in range(0, img.size[0]):\n",
        "      for j in range(0, img.size[1]):\n",
        "        img.putpixel((i, j), color)\n",
        "    \n",
        "    return img if image else np.asarray(img)\n",
        "  \n",
        "  # APARTADO B\n",
        "  @staticmethod\n",
        "  def createMultiImages(x_elements, y_elements, dimensions = (50, 50)):\n",
        "    colors = set()\n",
        "    h_stacks = list()\n",
        "    for i in range(y_elements):\n",
        "      while True:\n",
        "          color = EjercicioNumpy().__random_color__()\n",
        "          if not(color in colors):\n",
        "            colors.add(color)\n",
        "            break\n",
        "      img = EjercicioNumpy().createImage(dimensions[0], dimensions[1], color, False)\n",
        "      for j in range(x_elements-1):\n",
        "        while True:\n",
        "          color = EjercicioNumpy().__random_color__()\n",
        "          if not(color in colors):\n",
        "            colors.add(color)\n",
        "            break\n",
        "        new_image = EjercicioNumpy().createImage(dimensions[0], dimensions[1], color, False)\n",
        "        img = np.hstack([img, new_image])\n",
        "      h_stacks.append(img)\n",
        "\n",
        "    final_image = h_stacks.pop()\n",
        "\n",
        "    for stack in h_stacks:\n",
        "      final_image = np.vstack([final_image, stack])\n",
        "    \n",
        "    return Image.fromarray(final_image)\n",
        "  \n",
        "  # APARTADO C\n",
        "  @staticmethod\n",
        "  def deform_image(img, width = 20, height = 30):\n",
        "    return img.resize((width, height))\n",
        "  \n",
        "  # APARTADO D\n",
        "  @staticmethod\n",
        "  def resize_image_by_width(img, width = 20):\n",
        "    img_width = img.size[0]\n",
        "    img_height = img.size[1]\n",
        "    height = int( (img_height * width) / img_width )\n",
        "    return img.resize((width, height))\n",
        "  \n",
        " # APARTADO E\n",
        "  @staticmethod\n",
        "  def resize_image_by_height(img, height = 20):\n",
        "    img_width = img.size[0]\n",
        "    img_height = img.size[1]\n",
        "    width = int( (img_width * height) / img_height )\n",
        "    return img.resize((width, height))\n",
        "\n",
        "\n",
        "  # APARTADO F\n",
        "  @staticmethod\n",
        "  def slice_image(img, coordinates, dimensions = (75,75)):\n",
        "    width = img.size[0]\n",
        "    height = img.size[1]\n",
        "    img = np.asarray(img)\n",
        "    x = coordinates[0]\n",
        "    y = coordinates[1]\n",
        "    if x >= width or y >= height:\n",
        "      print('Coordinates out of bounds')\n",
        "      return\n",
        "    \n",
        "    last_x = dimensions[0] + x if dimensions[0] + x < width else width\n",
        "    last_y = dimensions[1] + y if dimensions[1] + y < height else height\n",
        "\n",
        "    return Image.fromarray(img[y:last_y, x:last_x])\n"
      ]
    },
    {
      "cell_type": "markdown",
      "source": [
        "# APARTADO A:\n",
        "\n",
        "Implementa un método al que se le pase el ancho y el alto de la imagen y el color de la misma. El método debe devolver la imagen creada.\n"
      ],
      "metadata": {
        "id": "VVHP0eke_y5K"
      }
    },
    {
      "cell_type": "code",
      "source": [
        "# Devolver en forma de array -> EjercicioNumpy().createImage(128, 128, (124, 0, 0))\n",
        "\n",
        "# Devolvemos en forma de imagen\n",
        "EjercicioNumpy().createImage(128, 128, (124, 0, 0))"
      ],
      "metadata": {
        "colab": {
          "base_uri": "https://localhost:8080/",
          "height": 145
        },
        "id": "4UcI0AAI-b83",
        "outputId": "1ba13b5c-b873-4a7a-a112-a12ee8f08671"
      },
      "execution_count": null,
      "outputs": [
        {
          "output_type": "execute_result",
          "data": {
            "text/plain": [
              "<PIL.Image.Image image mode=RGB size=128x128 at 0x7F7374854CD0>"
            ],
            "image/png": "[encoded data removed]"
          },
          "metadata": {},
          "execution_count": 59
        }
      ]
    },
    {
      "cell_type": "markdown",
      "source": [
        "# APARTADO B:\n",
        "\n",
        "Implementa un método al que se le pasa el número de elementos horizontales y\n",
        "verticales, así como el ancho y el alto de los elementos horizontales y verticales y que devuelva la imagen creada con un color de fondo diferente para cada elemento.\n",
        "\n",
        "Ejemplo: imagen con 8 por 8 elementos del mismo ancho y alto e imagen con 8 por 3 elementos con diferente ancho y alto."
      ],
      "metadata": {
        "id": "cO-C0JPB__LQ"
      }
    },
    {
      "cell_type": "code",
      "source": [
        "EjercicioNumpy().createMultiImages(3, 3)"
      ],
      "metadata": {
        "colab": {
          "base_uri": "https://localhost:8080/",
          "height": 167
        },
        "id": "s00xOgRiAjjS",
        "outputId": "843cfb8a-915a-4d6e-fb01-047ec2283084"
      },
      "execution_count": null,
      "outputs": [
        {
          "output_type": "execute_result",
          "data": {
            "text/plain": [
              "<PIL.Image.Image image mode=RGB size=150x150 at 0x7FEE5E0B57D0>"
            ],
            "image/png": "[encoded data removed]"
          },
          "metadata": {},
          "execution_count": 6
        }
      ]
    },
    {
      "cell_type": "markdown",
      "source": [
        "# APARTADO C:\n",
        "\n",
        "Implementa un método que redimensiona una imagen al ancho y alto especificado, este método deforma la imagen si la relación de aspecto no es la misma.\n"
      ],
      "metadata": {
        "id": "GhAsJueCAFWW"
      }
    },
    {
      "cell_type": "code",
      "source": [
        "my_img = EjercicioNumpy().createMultiImages(3, 3)\n",
        "my_img"
      ],
      "metadata": {
        "id": "5M_X9A6fAiI6",
        "colab": {
          "base_uri": "https://localhost:8080/",
          "height": 167
        },
        "outputId": "3538374f-9e68-4758-c85c-1e49fedf873f"
      },
      "execution_count": null,
      "outputs": [
        {
          "output_type": "execute_result",
          "data": {
            "text/plain": [
              "<PIL.Image.Image image mode=RGB size=150x150 at 0x7FEE5E006C50>"
            ],
            "image/png": "[encoded data removed]"
          },
          "metadata": {},
          "execution_count": 7
        }
      ]
    },
    {
      "cell_type": "code",
      "source": [
        "EjercicioNumpy().deform_image(my_img, 50, 150)"
      ],
      "metadata": {
        "colab": {
          "base_uri": "https://localhost:8080/",
          "height": 167
        },
        "id": "xJQijZw-9d8z",
        "outputId": "db39c80e-b468-4a13-89bb-ff411837a575"
      },
      "execution_count": null,
      "outputs": [
        {
          "output_type": "execute_result",
          "data": {
            "text/plain": [
              "<PIL.Image.Image image mode=RGB size=50x150 at 0x7FEE5E014BD0>"
            ],
            "image/png": "[encoded data removed]"
          },
          "metadata": {},
          "execution_count": 9
        }
      ]
    },
    {
      "cell_type": "markdown",
      "source": [
        "# APARTADO D:\n",
        "\n",
        "Implementa un método que redimensiona una imagen al ancho especificado, sin deformar la imagen."
      ],
      "metadata": {
        "id": "9w-zQWntAHAe"
      }
    },
    {
      "cell_type": "code",
      "source": [
        "EjercicioNumpy().resize_image_by_width(my_img, 50)"
      ],
      "metadata": {
        "id": "D9fv7UN2Avr6",
        "colab": {
          "base_uri": "https://localhost:8080/",
          "height": 67
        },
        "outputId": "bca258de-8967-4047-99dd-28b097d199b5"
      },
      "execution_count": null,
      "outputs": [
        {
          "output_type": "execute_result",
          "data": {
            "text/plain": [
              "<PIL.Image.Image image mode=RGB size=50x50 at 0x7F73746A5A90>"
            ],
            "image/png": "[encoded data removed]"
          },
          "metadata": {},
          "execution_count": 67
        }
      ]
    },
    {
      "cell_type": "markdown",
      "source": [
        "# APARTADO E:\n",
        "\n",
        "Implementa un método que redimensiona una imagen al alto especificado, sin deformar la imagen."
      ],
      "metadata": {
        "id": "ySQEBQqEAIoe"
      }
    },
    {
      "cell_type": "code",
      "source": [
        "EjercicioNumpy().resize_image_by_width(my_img, 70)"
      ],
      "metadata": {
        "id": "JJBsCfglA1CR",
        "colab": {
          "base_uri": "https://localhost:8080/",
          "height": 87
        },
        "outputId": "88f2ab27-aea9-4ebc-f0e6-09562ecaa6ea"
      },
      "execution_count": null,
      "outputs": [
        {
          "output_type": "execute_result",
          "data": {
            "text/plain": [
              "<PIL.Image.Image image mode=RGB size=70x70 at 0x7F73747451D0>"
            ],
            "image/png": "[encoded data removed]"
          },
          "metadata": {},
          "execution_count": 69
        }
      ]
    },
    {
      "cell_type": "markdown",
      "source": [
        "# APARTADO F:\n",
        "\n",
        "Implementa un método que devuelva un trozo de una imagen especificando la posición horizontal y vertical y el ancho y el alto, si las dimensiones especificadas son superiores a la imagen original, debe devolver el recorte disponible."
      ],
      "metadata": {
        "id": "vmddfammAKHW"
      }
    },
    {
      "cell_type": "code",
      "source": [
        "EjercicioNumpy().slice_image(my_img, (69, 69))"
      ],
      "metadata": {
        "id": "pshsZgDQA7UA",
        "colab": {
          "base_uri": "https://localhost:8080/",
          "height": 92
        },
        "outputId": "51f4d91e-d7bd-48bd-fbc2-0c8661060376"
      },
      "execution_count": null,
      "outputs": [
        {
          "output_type": "execute_result",
          "data": {
            "text/plain": [
              "<PIL.Image.Image image mode=RGB size=75x75 at 0x7FCD677C4690>"
            ],
            "image/png": "[encoded data removed]"
          },
          "metadata": {},
          "execution_count": 11
        }
      ]
    },
    {
      "cell_type": "markdown",
      "source": [
        "# APARTADO G:\n",
        "\n",
        "Implementa un método que apile dos imágenes horizontal o verticalmente, sin\n",
        "deformarlas. El método debe especificar en sus argumentos qué dimensiones son las que se deben adaptar."
      ],
      "metadata": {
        "id": "79WmgWJ2AK91"
      }
    },
    {
      "cell_type": "code",
      "source": [],
      "metadata": {
        "id": "ny8L8XWKA_bA"
      },
      "execution_count": null,
      "outputs": []
    },
    {
      "cell_type": "markdown",
      "source": [
        "# APARTADO H:\n",
        "\n",
        "Implementa un método que apile dos imágenes horizontal o verticalmente, si las\n",
        "dimensiones de las imágenes no coinciden, debe adaptarlas a la imagen más ancha o más alta, deformándolas si fuera necesario."
      ],
      "metadata": {
        "id": "0fiQbkDwALYt"
      }
    },
    {
      "cell_type": "code",
      "source": [],
      "metadata": {
        "id": "L-eJZU1yBD-m"
      },
      "execution_count": null,
      "outputs": []
    },
    {
      "cell_type": "markdown",
      "source": [
        "# APARTADO I:\n",
        "\n",
        "Implementa un método que inserte una imagen dentro de otra imagen en la posición\n",
        "horizontal y vertical especificada. Si la imagen que se va a insertar no cabe entera, debe recortarla.\n",
        "\n",
        "Ejemplo: La primera imagen se inserta en dos imágenes diferentes. En la primera imagen, la posición de inserción especificada no permite insertar la imágen completa. En la segunda imagen, la posición de inserción permite insertar la imagen de forma completa."
      ],
      "metadata": {
        "id": "dEnsRE5KAL1N"
      }
    },
    {
      "cell_type": "code",
      "source": [],
      "metadata": {
        "id": "9p6dtlslBHL2"
      },
      "execution_count": null,
      "outputs": []
    },
    {
      "cell_type": "markdown",
      "source": [
        "# APARTADO J:\n",
        "\n",
        "Implementa un método que inserte dentro de una imagen otra imagen en la posición\n",
        "horizontal y vertical especificada con el ancho y el alto especificado. Si la imagen que se va a insertar no cabe entera, debe recortarla."
      ],
      "metadata": {
        "id": "QXmQv9rHAXm0"
      }
    },
    {
      "cell_type": "code",
      "source": [],
      "metadata": {
        "id": "GEEwi5p3yRdG"
      },
      "execution_count": null,
      "outputs": []
    }
  ]
}